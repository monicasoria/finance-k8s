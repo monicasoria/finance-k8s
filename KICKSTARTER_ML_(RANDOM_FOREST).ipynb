{
  "nbformat": 4,
  "nbformat_minor": 0,
  "metadata": {
    "colab": {
      "name": "KICKSTARTER -ML (RANDOM FOREST).ipynb",
      "provenance": [],
      "collapsed_sections": [],
      "authorship_tag": "ABX9TyObm4Bj5c9Hm9F8takCW/Fb",
      "include_colab_link": true
    },
    "kernelspec": {
      "name": "python3",
      "display_name": "Python 3"
    }
  },
  "cells": [
    {
      "cell_type": "markdown",
      "metadata": {
        "id": "view-in-github",
        "colab_type": "text"
      },
      "source": [
        "<a href=\"https://colab.research.google.com/github/monicasoria/finance-k8s/blob/master/KICKSTARTER_ML_(RANDOM_FOREST).ipynb\" target=\"_parent\"><img src=\"https://colab.research.google.com/assets/colab-badge.svg\" alt=\"Open In Colab\"/></a>"
      ]
    },
    {
      "cell_type": "markdown",
      "metadata": {
        "id": "31wDt0Bb6wa1",
        "colab_type": "text"
      },
      "source": [
        "# About this notebook\n",
        "\n",
        "+ First read how to mount the google drive to google colab here: \n",
        "\n",
        "https://medium.com/@master_yi/importing-datasets-in-google-colab-c816fc654f97\n",
        "\n",
        "https://towardsdatascience.com/downloading-datasets-into-google-drive-via-google-colab-bcb1b30b0166\n",
        "\n",
        "\n",
        "+ These pages will help you to understand better the Random Forest : \n",
        "\n",
        "https://blog.citizennet.com/blog/2012/11/10/random-forests-ensembles-and-performance-metrics\n",
        "\n",
        "\n",
        "+ These pages contain how to implement Random Forest with Python: \n",
        "\n",
        "https://stackabuse.com/random-forest-algorithm-with-python-and-scikit-learn/\n"
      ]
    },
    {
      "cell_type": "code",
      "metadata": {
        "id": "6Gn3v0Ofyshw",
        "colab_type": "code",
        "outputId": "815ee0c0-8358-470b-e975-ba3ad5da45fc",
        "colab": {
          "base_uri": "https://localhost:8080/",
          "height": 33
        }
      },
      "source": [
        "# Load the Drive helper and mount\n",
        "from google.colab import drive\n",
        "drive.mount('/content/drive')"
      ],
      "execution_count": 0,
      "outputs": [
        {
          "output_type": "stream",
          "text": [
            "Drive already mounted at /content/drive; to attempt to forcibly remount, call drive.mount(\"/content/drive\", force_remount=True).\n"
          ],
          "name": "stdout"
        }
      ]
    },
    {
      "cell_type": "code",
      "metadata": {
        "id": "Oj5TWDwE0B8l",
        "colab_type": "code",
        "outputId": "c0772a11-dd57-40dc-e14b-d4ecfa37ae50",
        "colab": {
          "base_uri": "https://localhost:8080/",
          "height": 33
        }
      },
      "source": [
        "# Look for the file inside your google drive folder & see what is inside in order to build the route: \n",
        "! ls \"/content/drive/My Drive/Colab Notebooks/KICKSTARTER\""
      ],
      "execution_count": 0,
      "outputs": [
        {
          "output_type": "stream",
          "text": [
            "'KICKSTARTER -ML (RANDOM FOREST).ipynb'   ks-projects-201801-clean2.csv\n"
          ],
          "name": "stdout"
        }
      ]
    },
    {
      "cell_type": "code",
      "metadata": {
        "id": "UZLN0HY-7iyT",
        "colab_type": "code",
        "colab": {}
      },
      "source": [
        "# Import libraries \n",
        "import pandas as pd \n",
        "import matplotlib.pyplot as plt\n",
        "import matplotlib \n",
        "import numpy as np \n",
        "from sklearn.model_selection import train_test_split \n",
        "from sklearn import preprocessing \n",
        "from sklearn.preprocessing import StandardScaler\n",
        "\n",
        "%matplotlib inline \n"
      ],
      "execution_count": 0,
      "outputs": []
    },
    {
      "cell_type": "code",
      "metadata": {
        "id": "ppbeGWuWzEhZ",
        "colab_type": "code",
        "colab": {}
      },
      "source": [
        "# Read the file with pandas \n",
        "kickstarter = pd.read_csv(\"/content/drive/My Drive/Colab Notebooks/KICKSTARTER/ks-projects-201801-clean2.csv\")"
      ],
      "execution_count": 0,
      "outputs": []
    },
    {
      "cell_type": "markdown",
      "metadata": {
        "id": "-ko2vtZlzLHk",
        "colab_type": "text"
      },
      "source": [
        "# Data base cleaning & transformation"
      ]
    },
    {
      "cell_type": "code",
      "metadata": {
        "id": "j256xHglMtq6",
        "colab_type": "code",
        "outputId": "df3bfe92-e1ea-43a6-d28a-c6078dbf8840",
        "colab": {
          "base_uri": "https://localhost:8080/",
          "height": 455
        }
      },
      "source": [
        "kickstarter.head()"
      ],
      "execution_count": 0,
      "outputs": [
        {
          "output_type": "execute_result",
          "data": {
            "text/html": [
              "<div>\n",
              "<style scoped>\n",
              "    .dataframe tbody tr th:only-of-type {\n",
              "        vertical-align: middle;\n",
              "    }\n",
              "\n",
              "    .dataframe tbody tr th {\n",
              "        vertical-align: top;\n",
              "    }\n",
              "\n",
              "    .dataframe thead th {\n",
              "        text-align: right;\n",
              "    }\n",
              "</style>\n",
              "<table border=\"1\" class=\"dataframe\">\n",
              "  <thead>\n",
              "    <tr style=\"text-align: right;\">\n",
              "      <th></th>\n",
              "      <th>ID</th>\n",
              "      <th>name</th>\n",
              "      <th>category</th>\n",
              "      <th>main_category</th>\n",
              "      <th>currency</th>\n",
              "      <th>deadline</th>\n",
              "      <th>goal</th>\n",
              "      <th>launched</th>\n",
              "      <th>pledged</th>\n",
              "      <th>state</th>\n",
              "      <th>backers</th>\n",
              "      <th>country</th>\n",
              "      <th>usd pledged</th>\n",
              "      <th>usd_pledged_real</th>\n",
              "      <th>usd_goal_real</th>\n",
              "      <th>launched_year</th>\n",
              "      <th>period</th>\n",
              "      <th>funded_ratio</th>\n",
              "    </tr>\n",
              "  </thead>\n",
              "  <tbody>\n",
              "    <tr>\n",
              "      <th>0</th>\n",
              "      <td>1000002330</td>\n",
              "      <td>The Songs of Adelaide &amp; Abullah</td>\n",
              "      <td>Poetry</td>\n",
              "      <td>Publishing</td>\n",
              "      <td>GBP</td>\n",
              "      <td>2015-10-09 00:00:00</td>\n",
              "      <td>1000.0</td>\n",
              "      <td>2015-08-11 12:12:28</td>\n",
              "      <td>0.0</td>\n",
              "      <td>failed</td>\n",
              "      <td>0</td>\n",
              "      <td>GB</td>\n",
              "      <td>0.0</td>\n",
              "      <td>0.0</td>\n",
              "      <td>1533.95</td>\n",
              "      <td>2015</td>\n",
              "      <td>58 days 11:47:32.000000000</td>\n",
              "      <td>0.000000</td>\n",
              "    </tr>\n",
              "    <tr>\n",
              "      <th>1</th>\n",
              "      <td>1000003930</td>\n",
              "      <td>Greeting From Earth: ZGAC Arts Capsule For ET</td>\n",
              "      <td>Narrative Film</td>\n",
              "      <td>Film &amp; Video</td>\n",
              "      <td>USD</td>\n",
              "      <td>2017-11-01 00:00:00</td>\n",
              "      <td>30000.0</td>\n",
              "      <td>2017-09-02 04:43:57</td>\n",
              "      <td>2421.0</td>\n",
              "      <td>failed</td>\n",
              "      <td>15</td>\n",
              "      <td>US</td>\n",
              "      <td>100.0</td>\n",
              "      <td>2421.0</td>\n",
              "      <td>30000.00</td>\n",
              "      <td>2017</td>\n",
              "      <td>59 days 19:16:03.000000000</td>\n",
              "      <td>0.080700</td>\n",
              "    </tr>\n",
              "    <tr>\n",
              "      <th>2</th>\n",
              "      <td>1000004038</td>\n",
              "      <td>Where is Hank?</td>\n",
              "      <td>Narrative Film</td>\n",
              "      <td>Film &amp; Video</td>\n",
              "      <td>USD</td>\n",
              "      <td>2013-02-26 00:00:00</td>\n",
              "      <td>45000.0</td>\n",
              "      <td>2013-01-12 00:20:50</td>\n",
              "      <td>220.0</td>\n",
              "      <td>failed</td>\n",
              "      <td>3</td>\n",
              "      <td>US</td>\n",
              "      <td>220.0</td>\n",
              "      <td>220.0</td>\n",
              "      <td>45000.00</td>\n",
              "      <td>2013</td>\n",
              "      <td>44 days 23:39:10.000000000</td>\n",
              "      <td>0.004889</td>\n",
              "    </tr>\n",
              "    <tr>\n",
              "      <th>3</th>\n",
              "      <td>1000007540</td>\n",
              "      <td>ToshiCapital Rekordz Needs Help to Complete Album</td>\n",
              "      <td>Music</td>\n",
              "      <td>Music</td>\n",
              "      <td>USD</td>\n",
              "      <td>2012-04-16 00:00:00</td>\n",
              "      <td>5000.0</td>\n",
              "      <td>2012-03-17 03:24:11</td>\n",
              "      <td>1.0</td>\n",
              "      <td>failed</td>\n",
              "      <td>1</td>\n",
              "      <td>US</td>\n",
              "      <td>1.0</td>\n",
              "      <td>1.0</td>\n",
              "      <td>5000.00</td>\n",
              "      <td>2012</td>\n",
              "      <td>29 days 20:35:49.000000000</td>\n",
              "      <td>0.000200</td>\n",
              "    </tr>\n",
              "    <tr>\n",
              "      <th>4</th>\n",
              "      <td>1000014025</td>\n",
              "      <td>Monarch Espresso Bar</td>\n",
              "      <td>Restaurants</td>\n",
              "      <td>Food</td>\n",
              "      <td>USD</td>\n",
              "      <td>2016-04-01 00:00:00</td>\n",
              "      <td>50000.0</td>\n",
              "      <td>2016-02-26 13:38:27</td>\n",
              "      <td>52375.0</td>\n",
              "      <td>successful</td>\n",
              "      <td>224</td>\n",
              "      <td>US</td>\n",
              "      <td>52375.0</td>\n",
              "      <td>52375.0</td>\n",
              "      <td>50000.00</td>\n",
              "      <td>2016</td>\n",
              "      <td>34 days 10:21:33.000000000</td>\n",
              "      <td>1.047500</td>\n",
              "    </tr>\n",
              "  </tbody>\n",
              "</table>\n",
              "</div>"
            ],
            "text/plain": [
              "           ID  ... funded_ratio\n",
              "0  1000002330  ...     0.000000\n",
              "1  1000003930  ...     0.080700\n",
              "2  1000004038  ...     0.004889\n",
              "3  1000007540  ...     0.000200\n",
              "4  1000014025  ...     1.047500\n",
              "\n",
              "[5 rows x 18 columns]"
            ]
          },
          "metadata": {
            "tags": []
          },
          "execution_count": 84
        }
      ]
    },
    {
      "cell_type": "markdown",
      "metadata": {
        "id": "kf5uW1Uh6Lx9",
        "colab_type": "text"
      },
      "source": [
        "**Data selection **\n",
        "\n",
        "Columns we are not using and why :\n",
        "\n",
        "ID : we have already an index in python \n",
        "\n",
        "name : we already have name lenght \n",
        "\n",
        "category : there are many field so we instead use main_category \n",
        "\n",
        "deadline : still have period \n",
        "\n",
        "launched : we have period \n",
        "\n",
        "backers : it is the same as state \n",
        "\n",
        "goal : it is not in USD \n",
        "\n",
        "usd_pledged : we are using \n",
        "\n",
        "usd_pledged_real\n",
        "\n",
        "pledged : usd_pledged : we are using\n",
        "\n",
        "usd_pledged_real\n",
        "\n",
        "funded_ratio : was useful for EDA but not anymore \n"
      ]
    },
    {
      "cell_type": "code",
      "metadata": {
        "id": "tPiyqHDx8Omb",
        "colab_type": "code",
        "colab": {}
      },
      "source": [
        "# New variables \n",
        "kickstarter['name_lenght'] = kickstarter['name'].apply(len)\n",
        "\n",
        "\n",
        "#Data transformation into numeric or integer\n",
        "kickstarter['launched'] = pd.to_datetime(kickstarter.launched)\n",
        "kickstarter['launched_month'] = kickstarter.launched.dt.month\n",
        "\n",
        "kickstarter['deadline'] = pd.to_datetime(kickstarter.deadline)\n",
        "\n",
        "kickstarter['period'] = kickstarter.deadline - kickstarter.launched\n",
        "kickstarter['period'] = kickstarter.period.dt.days\n",
        "kickstarter['period'] = kickstarter.period.astype(int)\n",
        "\n",
        "\n",
        "# Convert categorical values to dummies \n",
        "kickstarter['main_category'] = pd.get_dummies(kickstarter.main_category)\n",
        "kickstarter['currency'] = pd.get_dummies(kickstarter.currency)\n",
        "kickstarter['country'] = pd.get_dummies(kickstarter.country)    \n",
        "kickstarter['state'] = pd.get_dummies(kickstarter.state)   \n"
      ],
      "execution_count": 0,
      "outputs": []
    },
    {
      "cell_type": "code",
      "metadata": {
        "id": "Hgx4Kabm6Cb1",
        "colab_type": "code",
        "colab": {}
      },
      "source": [
        "kickstarter = kickstarter.drop(['ID', 'name', 'category','deadline','pledged','launched','launched_year','backers','goal','usd pledged','funded_ratio'], axis=1)"
      ],
      "execution_count": 0,
      "outputs": []
    },
    {
      "cell_type": "markdown",
      "metadata": {
        "id": "3v4F2mDEgbEj",
        "colab_type": "text"
      },
      "source": [
        "## Random Forest Implementation"
      ]
    },
    {
      "cell_type": "code",
      "metadata": {
        "id": "0aIpGRoZMz88",
        "colab_type": "code",
        "colab": {}
      },
      "source": [
        "# Prepare data for training \n",
        "X_unscaled = pd.DataFrame(kickstarter)\n",
        "X_unscaled.drop ('state', axis = 1 , inplace = True)\n",
        "        \n",
        "y = pd.Series(kickstarter.state, name = \"STATE\")\n",
        "\n",
        "# 2.- Split dataset : 80% training set & 20% test set \n",
        "X_train, X_test, y_train, y_test = train_test_split(X_unscaled,y, test_size=0.2, random_state=0)\n"
      ],
      "execution_count": 0,
      "outputs": []
    },
    {
      "cell_type": "code",
      "metadata": {
        "id": "NM5hzbU76xv4",
        "colab_type": "code",
        "colab": {}
      },
      "source": [
        "# Feature scaling\n",
        "sc = StandardScaler()\n",
        "X_train = sc.fit_transform(X_train)\n",
        "X_test = sc.transform(X_test)"
      ],
      "execution_count": 0,
      "outputs": []
    },
    {
      "cell_type": "code",
      "metadata": {
        "id": "U6-6UDuU-Y3s",
        "colab_type": "code",
        "colab": {}
      },
      "source": [
        "# Train the algorithm  / Fitting Random Forest Regression to the dataset \n",
        "\n",
        "# 1) Import Regressor \n",
        "from sklearn.ensemble import RandomForestRegressor\n",
        "\n",
        "# 2) Create regressor object ( n_estimators is number of trees)\n",
        "regressor = RandomForestRegressor(n_estimators=10, random_state=0)\n",
        "\n",
        "# 3) Fit regressor with x and y data \n",
        "regressor.fit(X_train, y_train)\n",
        "y_pred = regressor.predict(X_test)"
      ],
      "execution_count": 0,
      "outputs": []
    },
    {
      "cell_type": "code",
      "metadata": {
        "id": "bEi5PHwP-g-N",
        "colab_type": "code",
        "outputId": "8770838f-82e2-4aa2-dbbe-8fbcef951e5b",
        "colab": {
          "base_uri": "https://localhost:8080/",
          "height": 98
        }
      },
      "source": [
        "# Evaluate the algorithm\n",
        "from sklearn import metrics\n",
        "\n",
        "# MAE\n",
        "print('Mean Absolute Error:', metrics.mean_absolute_error(y_test, y_pred))\n",
        "print('Mean Squared Error:', metrics.mean_squared_error(y_test, y_pred))\n",
        "\n",
        "MAPE = round(metrics.mean_absolute_error(y_test, y_pred) *100,2)\n",
        "print('Mean Absolute Error Percentage:',MAPE,\"%\")\n",
        "\n",
        "# Rule of thumb for RMSE could be between 0.2 and 0.5\n",
        "print('Root Mean Squared Error:', np.sqrt(metrics.mean_squared_error(y_test, y_pred)))\n",
        "\n",
        "ACCURACY = 100- np.mean(MAPE)\n",
        "print('Accuracy:', round(ACCURACY,2),'%')\n"
      ],
      "execution_count": 0,
      "outputs": [
        {
          "output_type": "stream",
          "text": [
            "Mean Absolute Error: 0.0007408425747716372\n",
            "Mean Squared Error: 0.000315125408609049\n",
            "Mean Absolute Error Percentage: 0.07 %\n",
            "Root Mean Squared Error: 0.01775177198504558\n",
            "Accuracy: 99.93 %\n"
          ],
          "name": "stdout"
        }
      ]
    },
    {
      "cell_type": "code",
      "metadata": {
        "id": "aqNbWJ1xV-xk",
        "colab_type": "code",
        "outputId": "8a5c5da2-f092-40ba-c5af-eb1b3760d814",
        "colab": {
          "base_uri": "https://localhost:8080/",
          "height": 126
        }
      },
      "source": [
        "Evaluate the algorithm vs David's Neuronal network \n",
        "\n",
        "1) Mean high CTR \n",
        "2)  Mean precision of clasifier \n",
        "3) Mean improvement "
      ],
      "execution_count": 0,
      "outputs": [
        {
          "output_type": "error",
          "ename": "SyntaxError",
          "evalue": "ignored",
          "traceback": [
            "\u001b[0;36m  File \u001b[0;32m\"<ipython-input-113-4be1b87a779f>\"\u001b[0;36m, line \u001b[0;32m1\u001b[0m\n\u001b[0;31m    Evaluate the algorithm vs David's Neuronal network\u001b[0m\n\u001b[0m               ^\u001b[0m\n\u001b[0;31mSyntaxError\u001b[0m\u001b[0;31m:\u001b[0m invalid syntax\n"
          ]
        }
      ]
    }
  ]
}